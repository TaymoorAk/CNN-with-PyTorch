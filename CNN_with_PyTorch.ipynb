{
  "nbformat": 4,
  "nbformat_minor": 0,
  "metadata": {
    "colab": {
      "name": "CNN with PyTorch.ipynb",
      "version": "0.3.2",
      "provenance": []
    },
    "kernelspec": {
      "name": "python3",
      "display_name": "Python 3"
    }
  },
  "cells": [
    {
      "metadata": {
        "id": "dwbFH5ZY2T-K",
        "colab_type": "text"
      },
      "cell_type": "markdown",
      "source": [
        "## Installing Libraries"
      ]
    },
    {
      "metadata": {
        "id": "vdS9MQY32ML-",
        "colab_type": "code",
        "colab": {}
      },
      "cell_type": "code",
      "source": [
        "!pip install -q torchvision"
      ],
      "execution_count": 0,
      "outputs": []
    },
    {
      "metadata": {
        "id": "-eYSPWSk39h4",
        "colab_type": "text"
      },
      "cell_type": "markdown",
      "source": [
        "## Importing Libraries"
      ]
    },
    {
      "metadata": {
        "id": "_kCp9-w62eH5",
        "colab_type": "code",
        "colab": {}
      },
      "cell_type": "code",
      "source": [
        "import torch\n",
        "from torch.autograd import Variable\n",
        "import torch.nn as nn\n",
        "import torch.nn.functional as F\n",
        "import torch.optim as opt\n",
        "import torchvision\n",
        "import torchvision.transforms as transforms\n",
        "from torch.utils.data import Dataset, DataLoader\n",
        "import matplotlib.pyplot as plt\n",
        "import numpy as np\n",
        "import pandas as pd\n",
        "%matplotlib inline"
      ],
      "execution_count": 0,
      "outputs": []
    },
    {
      "metadata": {
        "id": "Z9VaOQtA4G5L",
        "colab_type": "text"
      },
      "cell_type": "markdown",
      "source": [
        "## Data Loading Class"
      ]
    },
    {
      "metadata": {
        "id": "oK-8vnvh3OWA",
        "colab_type": "code",
        "colab": {}
      },
      "cell_type": "code",
      "source": [
        "class FashionMNIST(Dataset):\n",
        "  \n",
        "  def __init__(self, csv_file, transform = None):\n",
        "    data = pd.read_csv(csv_file)\n",
        "    self.X = np.array(data.iloc[:, 1:]).reshape(-1,1,28,28)\n",
        "    self.Y = np.array(data.iloc[:,0])\n",
        "    del data\n",
        "    self.transform = transform\n",
        "    \n",
        "  def __len__(self):\n",
        "    return len(self.X)\n",
        "  \n",
        "  def __getitem__(self,index):\n",
        "    item = self.X[index]\n",
        "    label = self.Y[index]"
      ],
      "execution_count": 0,
      "outputs": []
    },
    {
      "metadata": {
        "id": "6nkdmfHK441y",
        "colab_type": "text"
      },
      "cell_type": "markdown",
      "source": [
        "## Hyperparameters"
      ]
    },
    {
      "metadata": {
        "id": "t9iZOUTc43aq",
        "colab_type": "code",
        "colab": {}
      },
      "cell_type": "code",
      "source": [
        "BATCH_SIZE = 100\n",
        "EPOCHS = 25\n",
        "LEARNING_RATE = 0.001"
      ],
      "execution_count": 0,
      "outputs": []
    },
    {
      "metadata": {
        "id": "OV7tklvO5DIT",
        "colab_type": "text"
      },
      "cell_type": "markdown",
      "source": [
        "## DATA Transformation"
      ]
    },
    {
      "metadata": {
        "id": "ABA4pAd85CK8",
        "colab_type": "code",
        "colab": {}
      },
      "cell_type": "code",
      "source": [
        "transform = transforms.ToTensor()\n",
        "\n",
        "train_set = torchvision.datasets.FashionMNIST('/f-mnist',train=True, download=True, transform=transform)\n",
        "train_loader = torch.utils.data.DataLoader(train_set, batch_size=BATCH_SIZE, shuffle=True)\n",
        "\n",
        "test_set = torchvision.datasets.FashionMNIST('f-mnist', train=False, download= True, transform=transform)\n",
        "test_loader = torch.utils.data.DataLoader(test_set, batch_size=BATCH_SIZE, shuffle=False)"
      ],
      "execution_count": 0,
      "outputs": []
    },
    {
      "metadata": {
        "id": "lKpUhav56Qoy",
        "colab_type": "text"
      },
      "cell_type": "markdown",
      "source": [
        "## Class Labels"
      ]
    },
    {
      "metadata": {
        "id": "DjQwfk8Z54G3",
        "colab_type": "code",
        "colab": {}
      },
      "cell_type": "code",
      "source": [
        "labels_map = {0 : 'T-Shirt', 1 : 'Trouser', 2 : 'Pullover', 3 : 'Dress', 4 : 'Coat', 5 : 'Sandal', 6 : 'Shirt',\n",
        "              7 : 'Sneaker', 8 : 'Bag', 9 : 'Ankle Boot'}"
      ],
      "execution_count": 0,
      "outputs": []
    },
    {
      "metadata": {
        "id": "-UUIZlbb6aVV",
        "colab_type": "text"
      },
      "cell_type": "markdown",
      "source": [
        "## Sample Datapoints"
      ]
    },
    {
      "metadata": {
        "id": "ohrWt8S16ZHJ",
        "colab_type": "code",
        "colab": {
          "base_uri": "https://localhost:8080/",
          "height": 485
        },
        "outputId": "c2786eb4-4aba-41cf-9b8d-5c58316c94a8"
      },
      "cell_type": "code",
      "source": [
        "fig = plt.figure(figsize=(8,8))\n",
        "columns = 4\n",
        "rows = 5\n",
        "for i in range(1, columns*rows + 1):\n",
        "  img_xy = np.random.randint(len(train_set))\n",
        "  img = train_set[img_xy][0][0,:,:]\n",
        "  fig.add_subplot(rows,columns,i)\n",
        "  #plt.title(labels_map[train_set[img_xy][1]])\n",
        "  plt.axis('off')\n",
        "  plt.imshow(img, cmap='gray')"
      ],
      "execution_count": 7,
      "outputs": [
        {
          "output_type": "display_data",
          "data": {
            "image/png": "[encoded data removed]",
            "text/plain": [
              "<Figure size 576x576 with 20 Axes>"
            ]
          },
          "metadata": {
            "tags": []
          }
        }
      ]
    },
    {
      "metadata": {
        "id": "gEQk_T-87J0E",
        "colab_type": "code",
        "colab": {}
      },
      "cell_type": "code",
      "source": [
        "device = torch.device('cuda' if torch.cuda.is_available() else 'cpu')"
      ],
      "execution_count": 0,
      "outputs": []
    },
    {
      "metadata": {
        "id": "bL90KeFw8XVa",
        "colab_type": "text"
      },
      "cell_type": "markdown",
      "source": [
        "## Utility Function"
      ]
    },
    {
      "metadata": {
        "id": "Wa92eTHz8WHt",
        "colab_type": "code",
        "colab": {}
      },
      "cell_type": "code",
      "source": [
        "def show_batch(batch):\n",
        "  im = torchvision.utils.make_grid(batch)\n",
        "  plt.imshow(np.transpose(im.numpy(), (1,2,0)))"
      ],
      "execution_count": 0,
      "outputs": []
    },
    {
      "metadata": {
        "id": "KC7lDwu78sxL",
        "colab_type": "text"
      },
      "cell_type": "markdown",
      "source": [
        "## Complete Batch"
      ]
    },
    {
      "metadata": {
        "id": "Ll6yHNw58rh1",
        "colab_type": "code",
        "colab": {
          "base_uri": "https://localhost:8080/",
          "height": 391
        },
        "outputId": "a1fa6cf9-dd1c-4908-be7f-1a19d51fa9b3"
      },
      "cell_type": "code",
      "source": [
        "dataiter = iter(train_loader)\n",
        "images,labels = dataiter.next()\n",
        "print('Labels: ', labels)\n",
        "print('Batch shape: ', images.size())\n",
        "show_batch(images)"
      ],
      "execution_count": 12,
      "outputs": [
        {
          "output_type": "stream",
          "text": [
            "Labels:  tensor([5, 1, 6, 2, 0, 2, 0, 6, 9, 7, 1, 8, 2, 0, 3, 0, 9, 3, 3, 4, 8, 7, 5, 4,\n",
            "        4, 1, 9, 1, 1, 5, 5, 2, 4, 3, 4, 1, 4, 4, 7, 7, 3, 6, 4, 5, 8, 7, 7, 0,\n",
            "        8, 8, 1, 6, 2, 8, 1, 6, 8, 0, 4, 6, 1, 7, 2, 7, 9, 7, 2, 8, 5, 6, 4, 9,\n",
            "        4, 4, 5, 4, 9, 6, 9, 4, 9, 4, 7, 4, 2, 4, 6, 0, 1, 5, 0, 2, 3, 2, 2, 0,\n",
            "        7, 7, 8, 3])\n",
            "Batch shape:  torch.Size([100, 1, 28, 28])\n"
          ],
          "name": "stdout"
        },
        {
          "output_type": "display_data",
          "data": {
            "image/png": "[encoded data removed]",
            "text/plain": [
              "<Figure size 432x288 with 1 Axes>"
            ]
          },
          "metadata": {
            "tags": []
          }
        }
      ]
    },
    {
      "metadata": {
        "id": "lrR93XH99Dlk",
        "colab_type": "code",
        "colab": {
          "base_uri": "https://localhost:8080/",
          "height": 34
        },
        "outputId": "825ec456-d265-4bbe-c90f-b6cf273054c7"
      },
      "cell_type": "code",
      "source": [
        "images.view(BATCH_SIZE, -1).size()"
      ],
      "execution_count": 13,
      "outputs": [
        {
          "output_type": "execute_result",
          "data": {
            "text/plain": [
              "torch.Size([100, 784])"
            ]
          },
          "metadata": {
            "tags": []
          },
          "execution_count": 13
        }
      ]
    },
    {
      "metadata": {
        "id": "zK-IaWpD9V0p",
        "colab_type": "text"
      },
      "cell_type": "markdown",
      "source": [
        "## CNN Class"
      ]
    },
    {
      "metadata": {
        "id": "aO1EDJtD9UCV",
        "colab_type": "code",
        "colab": {}
      },
      "cell_type": "code",
      "source": [
        "\n",
        "class CNN(nn.Module):\n",
        "    def __init__(self):\n",
        "        super(CNN, self).__init__()\n",
        "        \n",
        "        # Convolution 1\n",
        "        self.cnn1 = nn.Conv2d(in_channels=1, out_channels=16, kernel_size=5, stride=1, padding=0)\n",
        "        self.relu1 = nn.ReLU()\n",
        "        # Max pool 1\n",
        "        self.maxpool1 = nn.MaxPool2d(kernel_size=2)\n",
        "     \n",
        "        # Convolution 2\n",
        "        self.cnn2 = nn.Conv2d(in_channels=16, out_channels=32, kernel_size=5, stride=1, padding=0)\n",
        "        self.relu2 = nn.ReLU()\n",
        "        \n",
        "        # Maxpool 2\n",
        "        self.maxpool2 = nn.MaxPool2d(kernel_size=2)\n",
        "        \n",
        "        self.dropout = nn.Dropout(p=0.5)\n",
        "\n",
        "        # Fully connected 1\n",
        "        self.fc1 = nn.Linear(32*4*4, 10)\n",
        "    \n",
        "    def forward(self, x):\n",
        "        # Convolution 1\n",
        "        out = self.cnn1(x)\n",
        "        out = self.relu1(out)\n",
        "        \n",
        "        # Maxpool 1\n",
        "        out = self.maxpool1(out)\n",
        "        \n",
        "        # Convolution 2 \n",
        "        out = self.cnn2(out)\n",
        "        out = self.relu2(out)\n",
        "        \n",
        "        # Maxpool 2 \n",
        "        out = self.maxpool2(out)\n",
        "        \n",
        "        # Resize\n",
        "        # Original size: (100, 32, 7, 7)\n",
        "        # out.size(0): 100\n",
        "        # New out size: (100, 32*7*7)\n",
        "        out = out.view(out.size(0), -1)\n",
        "        out = self.dropout(out)\n",
        "        # Linear function (readout)\n",
        "        out = self.fc1(out)\n",
        "        \n",
        "        return out"
      ],
      "execution_count": 0,
      "outputs": []
    },
    {
      "metadata": {
        "id": "S4A5sg6C_0yc",
        "colab_type": "text"
      },
      "cell_type": "markdown",
      "source": [
        "## Initiating Classifier"
      ]
    },
    {
      "metadata": {
        "id": "zTLinFy7_tTk",
        "colab_type": "code",
        "colab": {}
      },
      "cell_type": "code",
      "source": [
        "cnn = CNN()"
      ],
      "execution_count": 0,
      "outputs": []
    },
    {
      "metadata": {
        "id": "r-qAf1j2_5zJ",
        "colab_type": "code",
        "colab": {
          "base_uri": "https://localhost:8080/",
          "height": 207
        },
        "outputId": "3ad9091a-d004-4546-ae32-10aa755f2d01"
      },
      "cell_type": "code",
      "source": [
        "cnn"
      ],
      "execution_count": 19,
      "outputs": [
        {
          "output_type": "execute_result",
          "data": {
            "text/plain": [
              "CNN(\n",
              "  (cnn1): Conv2d(1, 16, kernel_size=(5, 5), stride=(1, 1))\n",
              "  (relu1): ReLU()\n",
              "  (maxpool1): MaxPool2d(kernel_size=2, stride=2, padding=0, dilation=1, ceil_mode=False)\n",
              "  (cnn2): Conv2d(16, 32, kernel_size=(5, 5), stride=(1, 1))\n",
              "  (relu2): ReLU()\n",
              "  (maxpool2): MaxPool2d(kernel_size=2, stride=2, padding=0, dilation=1, ceil_mode=False)\n",
              "  (dropout): Dropout(p=0.5)\n",
              "  (fc1): Linear(in_features=512, out_features=10, bias=True)\n",
              ")"
            ]
          },
          "metadata": {
            "tags": []
          },
          "execution_count": 19
        }
      ]
    },
    {
      "metadata": {
        "id": "87siFIRdAYdw",
        "colab_type": "text"
      },
      "cell_type": "markdown",
      "source": [
        "## Loss Function & Optimizer"
      ]
    },
    {
      "metadata": {
        "id": "pG3Iu51EARmv",
        "colab_type": "code",
        "colab": {}
      },
      "cell_type": "code",
      "source": [
        "criterion = nn.CrossEntropyLoss()"
      ],
      "execution_count": 0,
      "outputs": []
    },
    {
      "metadata": {
        "id": "hMFpnyWZAhe5",
        "colab_type": "code",
        "colab": {}
      },
      "cell_type": "code",
      "source": [
        "optimizer = opt.Adam(cnn.parameters(), lr=LEARNING_RATE)"
      ],
      "execution_count": 0,
      "outputs": []
    },
    {
      "metadata": {
        "id": "Ue7lNmmOArYy",
        "colab_type": "text"
      },
      "cell_type": "markdown",
      "source": [
        "## Training Classifier"
      ]
    },
    {
      "metadata": {
        "id": "Skh4bjYBAqBS",
        "colab_type": "code",
        "colab": {
          "base_uri": "https://localhost:8080/",
          "height": 527
        },
        "outputId": "5cb9d97c-2a37-4ed2-cbd4-67b8c4f63b30"
      },
      "cell_type": "code",
      "source": [
        "iter = 0\n",
        "for epoch in range(EPOCHS):\n",
        "    for i, (images, labels) in enumerate(train_loader):\n",
        "        \n",
        "        images = Variable(images)\n",
        "        labels = Variable(labels)\n",
        "        \n",
        "        # Clear gradients w.r.t. parameters\n",
        "        optimizer.zero_grad()\n",
        "        \n",
        "        # Forward pass to get output/logits\n",
        "        outputs = cnn(images)\n",
        "        \n",
        "        # Calculate Loss: softmax --> cross entropy loss\n",
        "        loss = criterion(outputs, labels)\n",
        "        \n",
        "        # Getting gradients w.r.t. parameters\n",
        "        loss.backward()\n",
        "        \n",
        "        # Updating parameters\n",
        "        optimizer.step()\n",
        "        \n",
        "        iter += 1\n",
        "        \n",
        "        if iter % 500 == 0:\n",
        "            # Calculate Accuracy         \n",
        "            correct = 0\n",
        "            total = 0\n",
        "            # Iterate through test dataset\n",
        "            for images, labels in test_loader:\n",
        "                images = Variable(images)\n",
        "                \n",
        "                # Forward pass only to get logits/output\n",
        "                outputs = cnn(images)\n",
        "                \n",
        "                # Get predictions from the maximum value\n",
        "                _, predicted = torch.max(outputs.data, 1)\n",
        "                \n",
        "                # Total number of labels\n",
        "                total += labels.size(0)\n",
        "                \n",
        "                correct += (predicted == labels).sum()\n",
        "            \n",
        "            accuracy = 100 * correct / total\n",
        "            \n",
        "            # Print Loss\n",
        "           # print('Iteration: {}. Loss: {}. Accuracy: {}'.format(iter, loss.data[0], accuracy))\n",
        "            print('Iteration : ', iter,' Accuracy : ',accuracy)"
      ],
      "execution_count": 33,
      "outputs": [
        {
          "output_type": "stream",
          "text": [
            "Iteration :  500  Accuracy :  tensor(86)\n",
            "Iteration :  1000  Accuracy :  tensor(86)\n",
            "Iteration :  1500  Accuracy :  tensor(86)\n",
            "Iteration :  2000  Accuracy :  tensor(86)\n",
            "Iteration :  2500  Accuracy :  tensor(87)\n",
            "Iteration :  3000  Accuracy :  tensor(87)\n",
            "Iteration :  3500  Accuracy :  tensor(87)\n",
            "Iteration :  4000  Accuracy :  tensor(87)\n",
            "Iteration :  4500  Accuracy :  tensor(87)\n",
            "Iteration :  5000  Accuracy :  tensor(86)\n",
            "Iteration :  5500  Accuracy :  tensor(87)\n",
            "Iteration :  6000  Accuracy :  tensor(87)\n",
            "Iteration :  6500  Accuracy :  tensor(87)\n",
            "Iteration :  7000  Accuracy :  tensor(87)\n",
            "Iteration :  7500  Accuracy :  tensor(87)\n",
            "Iteration :  8000  Accuracy :  tensor(88)\n",
            "Iteration :  8500  Accuracy :  tensor(87)\n",
            "Iteration :  9000  Accuracy :  tensor(88)\n",
            "Iteration :  9500  Accuracy :  tensor(87)\n",
            "Iteration :  10000  Accuracy :  tensor(88)\n",
            "Iteration :  10500  Accuracy :  tensor(88)\n",
            "Iteration :  11000  Accuracy :  tensor(88)\n",
            "Iteration :  11500  Accuracy :  tensor(88)\n",
            "Iteration :  12000  Accuracy :  tensor(88)\n",
            "Iteration :  12500  Accuracy :  tensor(88)\n",
            "Iteration :  13000  Accuracy :  tensor(88)\n",
            "Iteration :  13500  Accuracy :  tensor(88)\n",
            "Iteration :  14000  Accuracy :  tensor(88)\n",
            "Iteration :  14500  Accuracy :  tensor(88)\n",
            "Iteration :  15000  Accuracy :  tensor(88)\n"
          ],
          "name": "stdout"
        }
      ]
    },
    {
      "metadata": {
        "id": "fbch8ELyFwtf",
        "colab_type": "text"
      },
      "cell_type": "markdown",
      "source": [
        "## Evaluating our Classifier on the Test Set"
      ]
    },
    {
      "metadata": {
        "id": "ytlj_rOLCsG9",
        "colab_type": "code",
        "colab": {}
      },
      "cell_type": "code",
      "source": [
        "cnn.eval()\n",
        "correct = 0\n",
        "total = 0\n",
        "for images, labels in test_loader:\n",
        "  images = Variable(images.float())\n",
        "  outputs = cnn(images)\n",
        "  _, predicted = torch.max(outputs.data, 1)\n",
        "  total += labels.size(0)\n",
        "  correct += (predicted == labels).sum()"
      ],
      "execution_count": 0,
      "outputs": []
    },
    {
      "metadata": {
        "id": "o5JZuZlFGUdN",
        "colab_type": "code",
        "colab": {
          "base_uri": "https://localhost:8080/",
          "height": 34
        },
        "outputId": "9958661e-0fd2-4456-8cd0-a71600f2af4f"
      },
      "cell_type": "code",
      "source": [
        "print('Test Accuracy of the model on 10000 test images : %.4f %%' % (100 *correct / total))"
      ],
      "execution_count": 35,
      "outputs": [
        {
          "output_type": "stream",
          "text": [
            "Test Accuracy of the model on 10000 test images : 90.0000 %\n"
          ],
          "name": "stdout"
        }
      ]
    },
    {
      "metadata": {
        "id": "Yn_Ezo74MHq7",
        "colab_type": "code",
        "colab": {}
      },
      "cell_type": "code",
      "source": [
        ""
      ],
      "execution_count": 0,
      "outputs": []
    }
  ]
}